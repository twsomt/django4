{
 "cells": [
  {
   "cell_type": "code",
   "execution_count": 1,
   "id": "e6867e69",
   "metadata": {},
   "outputs": [],
   "source": [
    "\n",
    "import os\n",
    "import django\n",
    "\n",
    "from django.db import models"
   ]
  },
  {
   "cell_type": "code",
   "execution_count": 2,
   "id": "79bafab1",
   "metadata": {},
   "outputs": [],
   "source": [
    "from help_test.models import Blog\n",
    "\n",
    "\n"
   ]
  },
  {
   "cell_type": "code",
   "execution_count": 3,
   "id": "cec391a3",
   "metadata": {},
   "outputs": [],
   "source": [
    "#os.environ.setdefault('DJANGO_SETTINGS_MODULE', 'django4.settings')\n",
    "#os.environ[\"DJANGO_ALLOW_ASYNC_UNSAFE\"] = \"true\"\n",
    "#django.setup()\n",
    "    "
   ]
  },
  {
   "cell_type": "code",
   "execution_count": 4,
   "id": "d6cc0450",
   "metadata": {},
   "outputs": [],
   "source": [
    "newarticle = Blog.objects.create(name=\"one\")"
   ]
  },
  {
   "cell_type": "code",
   "execution_count": 5,
   "id": "5684f9e8",
   "metadata": {},
   "outputs": [],
   "source": [
    "newarticle = list(Blog.objects.all())"
   ]
  },
  {
   "cell_type": "code",
   "execution_count": 6,
   "id": "75f17ef1",
   "metadata": {},
   "outputs": [
    {
     "data": {
      "text/plain": [
       "[<Blog: Первая статья>,\n",
       " <Blog: Первая статья>,\n",
       " <Blog: Первая статья>,\n",
       " <Blog: Первая статья>,\n",
       " <Blog: Первая статья>,\n",
       " <Blog: Первая статья>,\n",
       " <Blog: Первая статья>,\n",
       " <Blog: Первая статья>,\n",
       " <Blog: Первая статья>,\n",
       " <Blog: Первая статья>,\n",
       " <Blog: Первая статья>,\n",
       " <Blog: Первая статья>,\n",
       " <Blog: Вторая статья>,\n",
       " <Blog: one>]"
      ]
     },
     "execution_count": 6,
     "metadata": {},
     "output_type": "execute_result"
    }
   ],
   "source": [
    "newarticle"
   ]
  },
  {
   "cell_type": "code",
   "execution_count": 7,
   "id": "977e58db",
   "metadata": {},
   "outputs": [],
   "source": [
    "newarticle2 = Blog.objects.create(name=\"two\")"
   ]
  },
  {
   "cell_type": "code",
   "execution_count": 8,
   "id": "21c69d2b",
   "metadata": {},
   "outputs": [],
   "source": [
    "newarticle2 = list(Blog.objects.all())[-1]"
   ]
  },
  {
   "cell_type": "code",
   "execution_count": 9,
   "id": "2d920d01",
   "metadata": {},
   "outputs": [
    {
     "data": {
      "text/plain": [
       "<Blog: two>"
      ]
     },
     "execution_count": 9,
     "metadata": {},
     "output_type": "execute_result"
    }
   ],
   "source": [
    "newarticle2"
   ]
  },
  {
   "cell_type": "code",
   "execution_count": null,
   "id": "76ff6201",
   "metadata": {},
   "outputs": [],
   "source": []
  },
  {
   "cell_type": "code",
   "execution_count": null,
   "id": "a2790b74",
   "metadata": {},
   "outputs": [],
   "source": []
  },
  {
   "cell_type": "code",
   "execution_count": null,
   "id": "59c4bcb0",
   "metadata": {},
   "outputs": [],
   "source": []
  }
 ],
 "metadata": {
  "kernelspec": {
   "display_name": "Python 3.10.6 ('django4Env')",
   "language": "python",
   "name": "python3"
  },
  "language_info": {
   "codemirror_mode": {
    "name": "ipython",
    "version": 3
   },
   "file_extension": ".py",
   "mimetype": "text/x-python",
   "name": "python",
   "nbconvert_exporter": "python",
   "pygments_lexer": "ipython3",
   "version": "3.10.6"
  },
  "vscode": {
   "interpreter": {
    "hash": "da01a98e7533fab4beada69b0c4e3f6f8d1a414c607619c20834ba8be57a4a1c"
   }
  }
 },
 "nbformat": 4,
 "nbformat_minor": 5
}
