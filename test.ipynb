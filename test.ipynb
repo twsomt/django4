{
 "cells": [
  {
   "cell_type": "code",
   "execution_count": 1,
   "id": "c8a753d9",
   "metadata": {},
   "outputs": [],
   "source": [
    "from main_site.models import Articles"
   ]
  },
  {
   "cell_type": "code",
   "execution_count": 2,
   "id": "1586ff20",
   "metadata": {},
   "outputs": [],
   "source": [
    "newarticle = Articles.objects.create(title='статья 2', content='контент 2')"
   ]
  },
  {
   "cell_type": "code",
   "execution_count": 3,
   "id": "8d184d18",
   "metadata": {},
   "outputs": [],
   "source": [
    "newarticle = list(Articles.objects.all())"
   ]
  },
  {
   "cell_type": "code",
   "execution_count": 4,
   "id": "bf1d7651",
   "metadata": {},
   "outputs": [
    {
     "data": {
      "text/plain": [
       "[<Articles: статья 1>, <Articles: статья 2>]"
      ]
     },
     "execution_count": 4,
     "metadata": {},
     "output_type": "execute_result"
    }
   ],
   "source": [
    "newarticle"
   ]
  },
  {
   "cell_type": "code",
   "execution_count": 5,
   "id": "ba628586",
   "metadata": {},
   "outputs": [
    {
     "name": "stdout",
     "output_type": "stream",
     "text": [
      "<class 'main_site.models.Articles'>\n",
      "<class 'main_site.models.Articles'>\n"
     ]
    }
   ],
   "source": [
    "for i in newarticle:\n",
    "    print(type(i))"
   ]
  },
  {
   "cell_type": "code",
   "execution_count": 6,
   "id": "165e9cfb",
   "metadata": {},
   "outputs": [
    {
     "name": "stdout",
     "output_type": "stream",
     "text": [
      "статья 1\n",
      "статья 2\n"
     ]
    }
   ],
   "source": [
    "for i in newarticle:\n",
    "    print(i.title)"
   ]
  },
  {
   "cell_type": "code",
   "execution_count": 7,
   "id": "e699bc7f",
   "metadata": {},
   "outputs": [
    {
     "name": "stdout",
     "output_type": "stream",
     "text": [
      "статья 1 контент 1\n",
      "статья 2 контент 2\n"
     ]
    }
   ],
   "source": [
    "for i in newarticle:\n",
    "    print(f'{i.title} {i.content}')"
   ]
  },
  {
   "cell_type": "code",
   "execution_count": 8,
   "id": "d3034d12",
   "metadata": {},
   "outputs": [],
   "source": [
    "newarticle = Articles.objects.create(title='статья 3', content='контент 3')"
   ]
  },
  {
   "cell_type": "code",
   "execution_count": 9,
   "id": "427e0c20",
   "metadata": {},
   "outputs": [],
   "source": [
    "newarticle = list(Articles.objects.all())"
   ]
  },
  {
   "cell_type": "code",
   "execution_count": 10,
   "id": "ef41f0bc",
   "metadata": {},
   "outputs": [
    {
     "name": "stdout",
     "output_type": "stream",
     "text": [
      "статья 1 контент 1\n",
      "статья 2 контент 2\n",
      "статья 3 контент 3\n"
     ]
    }
   ],
   "source": [
    "for i in newarticle:\n",
    "    print(f'{i.title} {i.content}')"
   ]
  },
  {
   "cell_type": "code",
   "execution_count": 11,
   "id": "51ae0788",
   "metadata": {},
   "outputs": [],
   "source": [
    "ferme = Articles.objects.create(title='статья 5',content='контент 5')"
   ]
  },
  {
   "cell_type": "code",
   "execution_count": null,
   "id": "5fa0a53b",
   "metadata": {},
   "outputs": [],
   "source": []
  }
 ],
 "metadata": {
  "kernelspec": {
   "display_name": "Django Shell-Plus",
   "language": "python",
   "name": "django_extensions"
  },
  "language_info": {
   "codemirror_mode": {
    "name": "ipython",
    "version": 3
   },
   "file_extension": ".py",
   "mimetype": "text/x-python",
   "name": "python",
   "nbconvert_exporter": "python",
   "pygments_lexer": "ipython3",
   "version": "3.10.6"
  }
 },
 "nbformat": 4,
 "nbformat_minor": 5
}
