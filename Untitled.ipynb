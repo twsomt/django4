{
 "cells": [
  {
   "cell_type": "code",
   "execution_count": 1,
   "id": "0bba78ac",
   "metadata": {},
   "outputs": [],
   "source": [
    "from django.db import models"
   ]
  },
  {
   "cell_type": "code",
   "execution_count": 2,
   "id": "9806a18d",
   "metadata": {},
   "outputs": [],
   "source": [
    "from help_test.models import Blog\n",
    "\n",
    "import os\n",
    "import django"
   ]
  },
  {
   "cell_type": "code",
   "execution_count": 3,
   "id": "9ef618a8",
   "metadata": {},
   "outputs": [],
   "source": [
    "os.environ.setdefault('DJANGO_SETTINGS_MODULE', 'django4.settings')\n",
    "os.environ[\"DJANGO_ALLOW_ASYNC_UNSAFE\"] = \"True\"\n",
    "django.setup()"
   ]
  },
  {
   "cell_type": "code",
   "execution_count": 4,
   "id": "517d5a9b",
   "metadata": {},
   "outputs": [],
   "source": [
    "newarticle = Blog.objects.create(name='Первая статья')"
   ]
  },
  {
   "cell_type": "code",
   "execution_count": 5,
   "id": "878def81",
   "metadata": {},
   "outputs": [],
   "source": [
    "newarticle = list(Blog.objects.all())"
   ]
  },
  {
   "cell_type": "code",
   "execution_count": 6,
   "id": "e888655b",
   "metadata": {},
   "outputs": [
    {
     "data": {
      "text/plain": [
       "[<Blog: Первая статья>,\n",
       " <Blog: Первая статья>,\n",
       " <Blog: Первая статья>,\n",
       " <Blog: Первая статья>,\n",
       " <Blog: Первая статья>,\n",
       " <Blog: Первая статья>,\n",
       " <Blog: Первая статья>,\n",
       " <Blog: Первая статья>,\n",
       " <Blog: Первая статья>,\n",
       " <Blog: Первая статья>,\n",
       " <Blog: Первая статья>,\n",
       " <Blog: Первая статья>,\n",
       " <Blog: Вторая статья>,\n",
       " <Blog: one>,\n",
       " <Blog: two>,\n",
       " <Blog: Первая статья>]"
      ]
     },
     "execution_count": 6,
     "metadata": {},
     "output_type": "execute_result"
    }
   ],
   "source": [
    "newarticle"
   ]
  },
  {
   "cell_type": "code",
   "execution_count": 7,
   "id": "42f9565e",
   "metadata": {},
   "outputs": [],
   "source": [
    "newarticle = Blog.objects.create(name='Вторая статья')"
   ]
  },
  {
   "cell_type": "code",
   "execution_count": 8,
   "id": "0c68b7e4",
   "metadata": {},
   "outputs": [],
   "source": [
    "newarticle = list(Blog.objects.all())"
   ]
  },
  {
   "cell_type": "code",
   "execution_count": 9,
   "id": "92e75f82",
   "metadata": {},
   "outputs": [
    {
     "data": {
      "text/plain": [
       "[<Blog: Первая статья>,\n",
       " <Blog: Первая статья>,\n",
       " <Blog: Первая статья>,\n",
       " <Blog: Первая статья>,\n",
       " <Blog: Первая статья>,\n",
       " <Blog: Первая статья>,\n",
       " <Blog: Первая статья>,\n",
       " <Blog: Первая статья>,\n",
       " <Blog: Первая статья>,\n",
       " <Blog: Первая статья>,\n",
       " <Blog: Первая статья>,\n",
       " <Blog: Первая статья>,\n",
       " <Blog: Вторая статья>,\n",
       " <Blog: one>,\n",
       " <Blog: two>,\n",
       " <Blog: Первая статья>,\n",
       " <Blog: Вторая статья>]"
      ]
     },
     "execution_count": 9,
     "metadata": {},
     "output_type": "execute_result"
    }
   ],
   "source": [
    "newarticle"
   ]
  },
  {
   "cell_type": "code",
   "execution_count": null,
   "id": "aaf37498",
   "metadata": {},
   "outputs": [],
   "source": []
  },
  {
   "cell_type": "code",
   "execution_count": null,
   "id": "4d22d00f",
   "metadata": {},
   "outputs": [],
   "source": []
  },
  {
   "cell_type": "code",
   "execution_count": null,
   "id": "ff40719e",
   "metadata": {},
   "outputs": [],
   "source": []
  },
  {
   "cell_type": "code",
   "execution_count": null,
   "id": "e4dff9de",
   "metadata": {},
   "outputs": [],
   "source": []
  }
 ],
 "metadata": {
  "kernelspec": {
   "display_name": "Django Shell-Plus",
   "language": "python",
   "name": "django_extensions"
  },
  "language_info": {
   "codemirror_mode": {
    "name": "ipython",
    "version": 3
   },
   "file_extension": ".py",
   "mimetype": "text/x-python",
   "name": "python",
   "nbconvert_exporter": "python",
   "pygments_lexer": "ipython3",
   "version": "3.10.6"
  }
 },
 "nbformat": 4,
 "nbformat_minor": 5
}
